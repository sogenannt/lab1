{
 "cells": [
  {
   "cell_type": "markdown",
   "metadata": {
    "id": "M-DGa20PaHnu"
   },
   "source": [
    "#Задача 1\n",
    "Написать функцию на вход которой подается строка, состоящая из латинских букв.\n",
    "Функция должна вернуть количество гласных букв (a, e, i, o, u) в этой строке. Написать тесты для кода"
   ]
  },
  {
   "cell_type": "code",
   "execution_count": 3,
   "metadata": {
    "id": "XvX8X_JJ6PCb"
   },
   "outputs": [
    {
     "name": "stdout",
     "output_type": "stream",
     "text": [
      "5\n",
      "7\n",
      "Error\n"
     ]
    }
   ],
   "source": [
    "vowel = ['a','e','i','o','u','A','E','I','O','U']\n",
    "test1 = \"abra kadabra\"\n",
    "test2 = \"SpAziEren mIt Don 12 Sim0n\"\n",
    "test3 = 5678\n",
    "def vowel_letters(promt):\n",
    "    vowel_counter = 0\n",
    "    try:\n",
    "        for letter in promt:\n",
    "            if letter.lower() in vowel:\n",
    "                vowel_counter += 1\n",
    "        return vowel_counter\n",
    "    except TypeError:\n",
    "        return \"Error\"\n",
    "print(vowel_letters(test1))\n",
    "print(vowel_letters(test2))\n",
    "print(vowel_letters(test3))"
   ]
  },
  {
   "cell_type": "markdown",
   "metadata": {
    "id": "t2ClV_Y0bbr6"
   },
   "source": [
    "# Задача 2\n",
    "Написать функцию на вход, которой подается строка. Функция должна вернуть true, если\n",
    "каждый символ в строке встречается только 1 раз, иначе должна вернуть false. Написать тесты для кода"
   ]
  },
  {
   "cell_type": "code",
   "execution_count": 6,
   "metadata": {
    "id": "FppbECao6VIz"
   },
   "outputs": [
    {
     "name": "stdout",
     "output_type": "stream",
     "text": [
      "True\n",
      "False\n",
      "False\n"
     ]
    }
   ],
   "source": [
    "def unique_string(promt):\n",
    "    return len(set(promt)) == len(promt)\n",
    "\n",
    "test1 = \"QWERTY\"\n",
    "test2 = \"Kleine Rat schlag die Katze\"\n",
    "test3 = \"QWERTY!@#$%^&*?\"\n",
    "\n",
    "print(unique_string(test1))\n",
    "print(unique_string(test2))\n",
    "print(unique_string(test3))"
   ]
  },
  {
   "cell_type": "markdown",
   "metadata": {
    "id": "udRiIK1cdt6E"
   },
   "source": [
    "# Задача 3\n",
    "Написать функцию, которая принимает положительное число и возвращает количество\n",
    "бит равных 1 в этом числе. Написать тесты для кода"
   ]
  },
  {
   "cell_type": "code",
   "execution_count": 7,
   "metadata": {
    "id": "6tkfDJRz6dp_"
   },
   "outputs": [
    {
     "name": "stdout",
     "output_type": "stream",
     "text": [
      "0\n",
      "1\n",
      "1\n",
      "4\n",
      "19\n"
     ]
    }
   ],
   "source": [
    "def bit_counter(number):\n",
    "    return [bit for bit in bin(number)[2:]].count('1')\n",
    "\n",
    "print(bit_counter(0))\n",
    "print(bit_counter(1))\n",
    "print(bit_counter(2))\n",
    "print(bit_counter(15))\n",
    "print(bit_counter(13131148845))"
   ]
  },
  {
   "cell_type": "markdown",
   "metadata": {
    "id": "26dDUz-Ae17N"
   },
   "source": [
    "# Задача 4\n",
    "Написать функцию, которая принимает положительное число. Функция должна вернуть то,\n",
    "сколько раз необходимо перемножать цифры числа или результат перемножения, чтобы\n",
    "получилось число состоящее из одной цифры.\n",
    "Например, для входного числа:\n",
    "· 39 функция должна вернуть 3, так как 3*9=27 => 2*7=14 => 1*4=4\n",
    "· 4 функция должна вернуть 0, так как число уже состоит из одной цифры\n",
    "· 999 функция должна вернуть 4, так как 9*9*9=729 => 7*2*9=126 => 1*2*6=12 =>\n",
    "1*2=2. Написать тесты для кода"
   ]
  },
  {
   "cell_type": "code",
   "execution_count": 8,
   "metadata": {
    "id": "BH1A_Mgi6i4G"
   },
   "outputs": [
    {
     "name": "stdout",
     "output_type": "stream",
     "text": [
      "3\n",
      "0\n",
      "4\n",
      "2\n",
      "3\n"
     ]
    }
   ],
   "source": [
    "def magic(n):\n",
    "    count = 0\n",
    "    while n >= 10:\n",
    "        n = eval('*'.join(str(n)))\n",
    "        count += 1\n",
    "    return count\n",
    "\n",
    "print(magic(39))\n",
    "print(magic(4))\n",
    "print(magic(999))\n",
    "print(magic(25))\n",
    "print(magic(444))"
   ]
  },
  {
   "cell_type": "markdown",
   "metadata": {
    "id": "0nS-kIa8g8vd"
   },
   "source": [
    "# Задача 5\n",
    "Написать функцию, которая принимает два целочисленных вектора одинаковой длины и\n",
    "возвращает среднеквадратическое отклонение двух векторов. Написать тесты для кода"
   ]
  },
  {
   "cell_type": "code",
   "execution_count": 9,
   "metadata": {
    "id": "8iphx4LM6xbx"
   },
   "outputs": [
    {
     "name": "stdout",
     "output_type": "stream",
     "text": [
      "3.1091263510296048\n",
      "5.354126134736337\n"
     ]
    }
   ],
   "source": [
    "import math\n",
    "def mse(vector1, vector2):\n",
    "    difference_squad = []\n",
    "    for i in range(len(vector1)):\n",
    "        difference = (vector1[i] - vector2[i]) ** 2\n",
    "        difference_squad.append(difference)\n",
    "    return math.sqrt(sum(difference_squad) / len(difference_squad))\n",
    "\n",
    "vector1 = [1,2,3]\n",
    "vector2 = [1,4,8]\n",
    "vector3 = [7,7,8]\n",
    "\n",
    "print(mse(vector1, vector2))\n",
    "print(mse(vector1, vector3))"
   ]
  },
  {
   "cell_type": "markdown",
   "metadata": {
    "id": "vpIPKL439zkw"
   },
   "source": [
    "# Задача 6\n",
    "Написать функцию, принимающая целое положительное число. Функция должна вернуть\n",
    "строку вида “(n1**p1)(n2**p2)…(nk**pk)” представляющая разложение числа на простые\n",
    "множители (если pi == 1, то выводить только ni).\n",
    "Например, для числа 86240 функция должна вернуть “(2**5)(5)(7**2)(11)”. Написать тесты для кода"
   ]
  },
  {
   "cell_type": "code",
   "execution_count": 21,
   "metadata": {
    "id": "pFebmcZk94Jw"
   },
   "outputs": [
    {
     "name": "stdout",
     "output_type": "stream",
     "text": [
      "(2 ** 3)(15289)\n",
      "(2)(9409409)\n",
      "\n",
      "(11)(181)\n"
     ]
    }
   ],
   "source": [
    "def simple_multiplication(num):\n",
    "    factors = {}\n",
    "    divisor = 2\n",
    "    while num > 1:\n",
    "        while num % divisor == 0:\n",
    "            if divisor in factors:\n",
    "                factors[divisor] += 1\n",
    "            else:\n",
    "                factors[divisor] = 1\n",
    "            num /= divisor\n",
    "        divisor += 1\n",
    "    \n",
    "    result = \"\"\n",
    "    for factor, count in factors.items():\n",
    "        if count == 1:\n",
    "            result += f\"({factor})\"\n",
    "        else:\n",
    "            result += f\"({factor} ** {count})\"\n",
    "    return result\n",
    "\n",
    "print(simple_multiplication(122312))\n",
    "print(simple_multiplication(18818818))\n",
    "print(simple_multiplication(1))\n",
    "print(simple_multiplication(1991))"
   ]
  },
  {
   "cell_type": "markdown",
   "metadata": {
    "id": "ps2s0BudX7A2"
   },
   "source": [
    "# Задача 7\n",
    "Написать функцию, принимающая целое число n, задающее количество кубиков. Функция\n",
    "должна определить, можно ли из данного кол-ва кубиков построить пирамиду, то есть\n",
    "можно ли представить число n как 1^2+2^2+3^2+…+k^2. Если можно, то функция должна\n",
    "вернуть k, иначе строку “It is impossible”. Написать тесты для кода"
   ]
  },
  {
   "cell_type": "code",
   "execution_count": 25,
   "metadata": {
    "id": "3YPjEXxhX_YT"
   },
   "outputs": [
    {
     "name": "stdout",
     "output_type": "stream",
     "text": [
      "Impossible\n",
      "1\n",
      "3\n",
      "Impossible\n",
      "5\n"
     ]
    }
   ],
   "source": [
    "def pyramid(number):\n",
    "    row = 1\n",
    "    total_blocks = 1\n",
    "    while number > total_blocks:\n",
    "        row += 1\n",
    "        total_blocks += row**2\n",
    "    if number == total_blocks:\n",
    "        return row\n",
    "    else:\n",
    "        return \"Impossible\"\n",
    "\n",
    "print(pyramid(7))\n",
    "print(pyramid(1))\n",
    "print(pyramid(14))\n",
    "print(pyramid(999))\n",
    "print(pyramid(55))"
   ]
  },
  {
   "cell_type": "markdown",
   "metadata": {
    "id": "KeKgmIdAQMEJ"
   },
   "source": [
    "# Задача 8\n",
    "Функция принимает на вход положительное число и определяет является ли оно сбалансированным, т.е. сумма цифр до средних равна сумме цифр после. Средними в случае нечетного числа цифр считать одну цифру, в случае четного - две средних. Написать тесты для кода"
   ]
  },
  {
   "cell_type": "code",
   "execution_count": null,
   "metadata": {
    "id": "gMAAqtqlQrZt"
   },
   "outputs": [],
   "source": [
    "# Your code goes here"
   ]
  }
 ],
 "metadata": {
  "colab": {
   "provenance": []
  },
  "kernelspec": {
   "display_name": "Python 3 (ipykernel)",
   "language": "python",
   "name": "python3"
  },
  "language_info": {
   "codemirror_mode": {
    "name": "ipython",
    "version": 3
   },
   "file_extension": ".py",
   "mimetype": "text/x-python",
   "name": "python",
   "nbconvert_exporter": "python",
   "pygments_lexer": "ipython3",
   "version": "3.12.6"
  }
 },
 "nbformat": 4,
 "nbformat_minor": 4
}
